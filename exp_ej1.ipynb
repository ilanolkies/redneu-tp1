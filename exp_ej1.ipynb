{
 "cells": [
  {
   "cell_type": "code",
   "execution_count": 6,
   "metadata": {},
   "outputs": [],
   "source": [
    "from dataset import load_dataset\n",
    "from main import train, test\n",
    "from plotter import plot_error\n",
    "\n",
    "class Model:\n",
    "    def __init__(\n",
    "        self,\n",
    "        data,\n",
    "        input_break,\n",
    "        target_break,\n",
    "        apply_target\n",
    "    ):\n",
    "        (_input, _target) = load_dataset(\n",
    "            data,\n",
    "            input_break,\n",
    "            target_break,\n",
    "            apply_target\n",
    "        )\n",
    "        \n",
    "        self.input = _input\n",
    "        self.target = _target\n",
    "        \n",
    "    def train(self, S, max_epoch, lr, train_break):\n",
    "        self.S = S\n",
    "        self.max_epoch = max_epoch\n",
    "        self.lr = lr\n",
    "\n",
    "        errors, W = train(\n",
    "            self.input[train_break[0]:train_break[1]],\n",
    "            self.target[train_break[0]:train_break[1]],\n",
    "            self.S, self.max_epoch, self.lr\n",
    "        )\n",
    "        \n",
    "        self.model = W\n",
    "        return errors\n",
    "    \n",
    "    def test(self, test_break):\n",
    "        return test(\n",
    "            self.input[test_break[0]:test_break[1]],\n",
    "            self.target[test_break[0]:test_break[1]],\n",
    "            self.S, self.model\n",
    "        )\n",
    "    \n",
    "    def exp(self, S, max_epoch, lr, train_break, test_break):\n",
    "        errors = self.train(S, max_epoch, lr, train_break)\n",
    "        pres = self.test(test_break)\n",
    "\n",
    "        plot_error(errors)\n",
    "        print(pres)"
   ]
  },
  {
   "cell_type": "code",
   "execution_count": 7,
   "metadata": {},
   "outputs": [],
   "source": [
    "import pandas as pd\n",
    "import numpy as np\n",
    "\n",
    "def apply_target(data_target):\n",
    "  return np.where(data_target=='M', -1, 1)\n",
    "\n",
    "model = Model('./dataset/tp1_ej1_training.csv', (1, 11), (0, 1), apply_target)"
   ]
  },
  {
   "cell_type": "code",
   "execution_count": 8,
   "metadata": {},
   "outputs": [
    {
     "name": "stdout",
     "output_type": "stream",
     "text": [
      "epoch 0 - error 1/200\n",
      "epoch 100 - error 119.71774239616818/200\n",
      "epoch 200 - error 87.89711863281762/200\n",
      "epoch 300 - error 71.09200130200615/200\n",
      "epoch 400 - error 62.73644621952331/200\n",
      "epoch 500 - error 58.700479282103466/200\n",
      "epoch 600 - error 57.545771212301844/200\n",
      "epoch 700 - error 57.05438154751788/200\n",
      "epoch 800 - error 56.78734662613282/200\n",
      "epoch 900 - error 56.62040955723061/200\n"
     ]
    },
    {
     "data": {
      "image/png": "[encoded data removed]",
      "text/plain": [
       "<Figure size 432x288 with 1 Axes>"
      ]
     },
     "metadata": {
      "needs_background": "light"
     },
     "output_type": "display_data"
    },
    {
     "name": "stdout",
     "output_type": "stream",
     "text": [
      "0.82\n"
     ]
    }
   ],
   "source": [
    "model.exp(\n",
    "    [10, 9, 1],\n",
    "    1000,\n",
    "    0.01,\n",
    "    (0, 200),\n",
    "    (200, 400)\n",
    ")"
   ]
  },
  {
   "cell_type": "code",
   "execution_count": null,
   "metadata": {},
   "outputs": [],
   "source": []
  }
 ],
 "metadata": {
  "kernelspec": {
   "display_name": "Python 3",
   "language": "python",
   "name": "python3"
  },
  "language_info": {
   "codemirror_mode": {
    "name": "ipython",
    "version": 3
   },
   "file_extension": ".py",
   "mimetype": "text/x-python",
   "name": "python",
   "nbconvert_exporter": "python",
   "pygments_lexer": "ipython3",
   "version": "3.6.5"
  }
 },
 "nbformat": 4,
 "nbformat_minor": 4
}

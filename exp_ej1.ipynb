{
 "cells": [
  {
   "cell_type": "code",
   "execution_count": 1,
   "metadata": {},
   "outputs": [],
   "source": [
    "from main import Model"
   ]
  },
  {
   "cell_type": "code",
   "execution_count": 2,
   "metadata": {},
   "outputs": [],
   "source": [
    "import pandas as pd\n",
    "import numpy as np\n",
    "\n",
    "def apply_target(data_target):\n",
    "  return np.where(data_target=='M', -1, 1)\n",
    "\n",
    "model = Model('./dataset/tp1_ej1_training.csv', (1, 11), (0, 1), apply_target)"
   ]
  },
  {
   "cell_type": "code",
   "execution_count": 3,
   "metadata": {},
   "outputs": [
    {
     "name": "stdout",
     "output_type": "stream",
     "text": [
      "epoch 0 - error 1/200\n",
      "epoch 100 - error 113.50707137861954/200\n",
      "epoch 200 - error 42.05142813595261/200\n",
      "epoch 300 - error 21.18967970155031/200\n",
      "epoch 400 - error 10.27569433270814/200\n",
      "epoch 500 - error 6.283483952133312/200\n",
      "epoch 600 - error 4.246092406332641/200\n",
      "epoch 700 - error 3.0391596276076345/200\n",
      "epoch 800 - error 2.371068571576895/200\n",
      "epoch 900 - error 1.9088391947940067/200\n"
     ]
    },
    {
     "data": {
      "image/png": "[encoded data removed]",
      "text/plain": [
       "<Figure size 432x288 with 1 Axes>"
      ]
     },
     "metadata": {
      "needs_background": "light"
     },
     "output_type": "display_data"
    },
    {
     "name": "stdout",
     "output_type": "stream",
     "text": [
      "0.85\n"
     ]
    }
   ],
   "source": [
    "model.exp(\n",
    "    [10, 9, 1],\n",
    "    1000,\n",
    "    0.01,\n",
    "    (0, 200),\n",
    "    (200, 400)\n",
    ")"
   ]
  },
  {
   "cell_type": "code",
   "execution_count": null,
   "metadata": {},
   "outputs": [],
   "source": []
  }
 ],
 "metadata": {
  "kernelspec": {
   "display_name": "Python 3",
   "language": "python",
   "name": "python3"
  },
  "language_info": {
   "codemirror_mode": {
    "name": "ipython",
    "version": 3
   },
   "file_extension": ".py",
   "mimetype": "text/x-python",
   "name": "python",
   "nbconvert_exporter": "python",
   "pygments_lexer": "ipython3",
   "version": "3.6.5"
  }
 },
 "nbformat": 4,
 "nbformat_minor": 4
}

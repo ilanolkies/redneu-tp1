{
 "cells": [
  {
   "cell_type": "code",
   "execution_count": 2,
   "metadata": {},
   "outputs": [],
   "source": [
    "from main import Model"
   ]
  },
  {
   "cell_type": "code",
   "execution_count": 3,
   "metadata": {},
   "outputs": [],
   "source": [
    "from main import main\n",
    "from dataset import normalize\n",
    "\n",
    "def targetNormalize(target_data):\n",
    "  data = target_data.copy()\n",
    "  normalize(data)\n",
    "  return data.to_numpy()\n",
    "\n",
    "model = Model('./dataset/tp1_ej2_training.csv', (0, 8), (8, 10), targetNormalize)"
   ]
  },
  {
   "cell_type": "code",
   "execution_count": 4,
   "metadata": {},
   "outputs": [
    {
     "name": "stdout",
     "output_type": "stream",
     "text": [
      "epoch 0 - error 1/400\n",
      "epoch 100 - error 18.925514877947403/400\n",
      "epoch 200 - error 13.588179239208939/400\n",
      "epoch 300 - error 6.489148894420347/400\n",
      "epoch 400 - error 5.68629497582999/400\n",
      "epoch 500 - error 5.10718277057835/400\n",
      "epoch 600 - error 4.788255152669285/400\n",
      "epoch 700 - error 4.5337087551204345/400\n",
      "epoch 800 - error 4.424192036341169/400\n",
      "epoch 900 - error 4.3179114819644/400\n"
     ]
    },
    {
     "data": {
      "image/png": "[encoded data removed]",
      "text/plain": [
       "<Figure size 432x288 with 1 Axes>"
      ]
     },
     "metadata": {
      "needs_background": "light"
     },
     "output_type": "display_data"
    },
    {
     "name": "stdout",
     "output_type": "stream",
     "text": [
      "0.005\n"
     ]
    }
   ],
   "source": [
    "model.exp(\n",
    "    [8, 7, 4, 2],\n",
    "    1000,\n",
    "    0.01,\n",
    "    (0, 400),\n",
    "    (400, 500)\n",
    ")"
   ]
  },
  {
   "cell_type": "code",
   "execution_count": 5,
   "metadata": {},
   "outputs": [
    {
     "name": "stdout",
     "output_type": "stream",
     "text": [
      "epoch 0 - error 1/400\n",
      "epoch 100 - error 12.072225284856318/400\n",
      "epoch 200 - error 7.1705969570984225/400\n",
      "epoch 300 - error 5.214121396582295/400\n",
      "epoch 400 - error 3.772044896921043/400\n",
      "epoch 500 - error 3.149473265047839/400\n",
      "epoch 600 - error 2.9255485595675075/400\n",
      "epoch 700 - error 2.7343964011218014/400\n",
      "epoch 800 - error 2.6407503350015613/400\n",
      "epoch 900 - error 2.5233548818377995/400\n"
     ]
    },
    {
     "data": {
      "image/png": "[encoded data removed]",
      "text/plain": [
       "<Figure size 432x288 with 1 Axes>"
      ]
     },
     "metadata": {
      "needs_background": "light"
     },
     "output_type": "display_data"
    },
    {
     "name": "stdout",
     "output_type": "stream",
     "text": [
      "0.005\n"
     ]
    }
   ],
   "source": [
    "model.exp(\n",
    "    [8, 20, 2],\n",
    "    1000,\n",
    "    0.01,\n",
    "    (0, 400),\n",
    "    (400, 500)\n",
    ")"
   ]
  },
  {
   "cell_type": "code",
   "execution_count": 6,
   "metadata": {},
   "outputs": [
    {
     "name": "stdout",
     "output_type": "stream",
     "text": [
      "epoch 0 - error 1/400\n",
      "epoch 100 - error 19.56779234708047/400\n",
      "epoch 200 - error 10.608292485599195/400\n",
      "epoch 300 - error 6.267494811187545/400\n",
      "epoch 400 - error 5.880585356803997/400\n",
      "epoch 500 - error 5.717301875626151/400\n",
      "epoch 600 - error 5.613911845959188/400\n",
      "epoch 700 - error 5.517562562855845/400\n",
      "epoch 800 - error 5.447606050920359/400\n",
      "epoch 900 - error 5.414540040896694/400\n",
      "epoch 1000 - error 5.373247116833273/400\n",
      "epoch 1100 - error 5.317212249141055/400\n",
      "epoch 1200 - error 5.264820515746651/400\n",
      "epoch 1300 - error 5.233391173261775/400\n",
      "epoch 1400 - error 5.195264136522689/400\n",
      "epoch 1500 - error 5.13569441466971/400\n",
      "epoch 1600 - error 5.068461326333352/400\n",
      "epoch 1700 - error 4.94564504477062/400\n",
      "epoch 1800 - error 4.860254254780893/400\n",
      "epoch 1900 - error 4.650185556206157/400\n",
      "epoch 2000 - error 4.423213191229157/400\n",
      "epoch 2100 - error 4.20917901884818/400\n",
      "epoch 2200 - error 4.0806132501366505/400\n",
      "epoch 2300 - error 3.98047156017164/400\n",
      "epoch 2400 - error 4.006869666580464/400\n",
      "epoch 2500 - error 3.9958852932042186/400\n",
      "epoch 2600 - error 3.926810672579287/400\n",
      "epoch 2700 - error 3.983163706069815/400\n",
      "epoch 2800 - error 3.952957330128175/400\n",
      "epoch 2900 - error 3.9568208087706016/400\n",
      "epoch 3000 - error 3.9108035910136336/400\n",
      "epoch 3100 - error 3.9076916836760938/400\n",
      "epoch 3200 - error 3.8891553812413/400\n",
      "epoch 3300 - error 3.8845263913355423/400\n",
      "epoch 3400 - error 3.8871309874177706/400\n",
      "epoch 3500 - error 3.88820835749123/400\n",
      "epoch 3600 - error 3.843221977141557/400\n",
      "epoch 3700 - error 3.8360876230202097/400\n",
      "epoch 3800 - error 3.7894823597268337/400\n",
      "epoch 3900 - error 3.8438673576729374/400\n",
      "epoch 4000 - error 3.7976581435835968/400\n",
      "epoch 4100 - error 3.812306638477023/400\n",
      "epoch 4200 - error 3.790962206335856/400\n",
      "epoch 4300 - error 3.804855631736094/400\n",
      "epoch 4400 - error 3.78504890880108/400\n",
      "epoch 4500 - error 3.7652744699861453/400\n",
      "epoch 4600 - error 3.7464846233907703/400\n",
      "epoch 4700 - error 3.7420497334020606/400\n",
      "epoch 4800 - error 3.70135825687231/400\n",
      "epoch 4900 - error 3.7409261765479345/400\n"
     ]
    },
    {
     "data": {
      "image/png": "[encoded data removed]",
      "text/plain": [
       "<Figure size 432x288 with 1 Axes>"
      ]
     },
     "metadata": {
      "needs_background": "light"
     },
     "output_type": "display_data"
    },
    {
     "name": "stdout",
     "output_type": "stream",
     "text": [
      "0.005\n"
     ]
    }
   ],
   "source": [
    "model.exp(\n",
    "    [8, 7, 4, 2],\n",
    "    5000,\n",
    "    0.01,\n",
    "    (0, 400),\n",
    "    (400, 500)\n",
    ")"
   ]
  },
  {
   "cell_type": "code",
   "execution_count": null,
   "metadata": {},
   "outputs": [],
   "source": []
  }
 ],
 "metadata": {
  "kernelspec": {
   "display_name": "Python 3",
   "language": "python",
   "name": "python3"
  },
  "language_info": {
   "codemirror_mode": {
    "name": "ipython",
    "version": 3
   },
   "file_extension": ".py",
   "mimetype": "text/x-python",
   "name": "python",
   "nbconvert_exporter": "python",
   "pygments_lexer": "ipython3",
   "version": "3.6.5"
  }
 },
 "nbformat": 4,
 "nbformat_minor": 4
}

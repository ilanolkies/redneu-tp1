{
 "cells": [
  {
   "cell_type": "markdown",
   "metadata": {},
   "source": [
    "# TP1 - Redes Neuronales"
   ]
  },
  {
   "cell_type": "markdown",
   "metadata": {},
   "source": [
    "## Ej 1 - Diagnóstico de cáncer de mamas"
   ]
  },
  {
   "cell_type": "code",
   "execution_count": 1,
   "metadata": {},
   "outputs": [],
   "source": [
    "import numpy as np\n",
    "import matplotlib.pyplot as plt\n",
    "import pandas as pd\n",
    "import sklearn.preprocessing as skl\n",
    "import pickle"
   ]
  },
  {
   "cell_type": "markdown",
   "metadata": {},
   "source": [
    "Definición de variables globales de configuración de la red."
   ]
  },
  {
   "cell_type": "code",
   "execution_count": 2,
   "metadata": {},
   "outputs": [],
   "source": [
    "P = 0 \n",
    "S = []\n",
    "L = len(S)\n",
    "\n",
    "lr = 0.01\n",
    "B = 1 # mini-lotes incremental 1"
   ]
  },
  {
   "cell_type": "markdown",
   "metadata": {},
   "source": [
    "Modelo completo\n",
    "1. Leer dataset y normalizar datos.\n",
    "2. Setear variables globales de configuracion de la red.\n",
    "3. Testear modelo:\n",
    "    * Cargar modelo entrenado (matriz W).\n",
    "    * Realizar activación para todas las instancias.\n",
    "    * Comparar con resultados esperados.\n",
    "4. Entrenar modelo:\n",
    "    * Inicializar modelo (matriz W).\n",
    "    * Realizar entrenamiento.\n",
    "    * Guardar modelo entrenado.\n",
    "    * Graficar error en funcion de epochs."
   ]
  },
  {
   "cell_type": "code",
   "execution_count": 989,
   "metadata": {},
   "outputs": [],
   "source": [
    "def model(model_file, dataset_file, mode):\n",
    "    X,target = load_dataset(dataset_file) \n",
    "    \n",
    "    # TODO separar en data de train, test, validation.\n",
    "    \n",
    "    #mpl.scatter( np.arange(len(X)), X[:,7], alpha=0.3)\n",
    "    #mpl.show()\n",
    "    \n",
    "    # seteo configuracion de la red\n",
    "    global P, S, L\n",
    "    P = len(X) # #instancias\n",
    "    #S = [len(X[0]),1,1,1] # #neuronas x capa    \n",
    "    #L = len(S) # #capas\n",
    "    \n",
    "\n",
    "    if mode == 'test': # TODO if exist model_file+'.npy'\n",
    "        # cargo modelo ya entrenado\n",
    "        W = pickle.load( open(model_file+'.p', \"rb\" ) )\n",
    "\n",
    "        \n",
    "        # activación de cada instancia\n",
    "        res = []\n",
    "        for i in range(P):\n",
    "            res.append(activation(X[i:i+1],W)[L-1][0])\n",
    "            \n",
    "        # comparo con resultados esperados\n",
    "        #print(np.sign(res) == target)\n",
    "    else:\n",
    "        # inicializo matriz W de pesos\n",
    "        W = init_w()\n",
    "\n",
    "        # entrenamiento\n",
    "        Error, W = train(X,target, W)\n",
    "        \n",
    "        # guardo modelo entrenado\n",
    "        np.save(model_file+'.npy' , W)\n",
    "        pickle.dump( W, open(model_file+'.p', \"wb\" ) )\n",
    "        \n",
    "        # grafico Error en funcion de epochs\n",
    "        mpl.plot(Error,'r')\n",
    "        mpl.show()\n",
    "    \n",
    "    return 'Ok'"
   ]
  },
  {
   "cell_type": "markdown",
   "metadata": {},
   "source": [
    "1. Leer dataset csv.\n",
    "2. Preprocesamiento:\n",
    "    * Separar en columnas input y target.\n",
    "    * Normalizar inputs entre (-1,1)\n",
    "    * Modificar M = -1 y B = 1 en el target."
   ]
  },
  {
   "cell_type": "code",
   "execution_count": 990,
   "metadata": {},
   "outputs": [],
   "source": [
    "def load_dataset(ds_file):\n",
    "    # load dataset from csv\n",
    "    df = pd.read_csv(ds_file ,header=None)\n",
    "\n",
    "    # split into target and inputs.\n",
    "    data_target = (df[df.columns[:1]])\n",
    "    data_input = pd.DataFrame(df[df.columns[1:]])\n",
    "    \n",
    "\n",
    "    # preprocessing data\n",
    "    # normalize inputs in range (-1,1)\n",
    "    #mpl.scatter( data_input.index, data_input[7], alpha=0.3)\n",
    "    #mpl.show()\n",
    "        # TODO standarize inputs y ver diferencia entre normalizar y standarizar.\n",
    "    normalizeInput(data_input)          \n",
    "\n",
    "    # rename target M = -1 y B = 1\n",
    "    data_target = np.where(data_target=='M', -1, 1)\n",
    "    return data_input.to_numpy(), data_target\n",
    "\n",
    "def normalizeInput(data):\n",
    "    for c in data.columns:\n",
    "        #M = data[c].max()\n",
    "        #m = data[c].min()\n",
    "        #data[c] = (data[c] - m) / (M - m) #normalizar\n",
    "        #data[c] = data[c]*2 - 1\n",
    "        data[c] = skl.minmax_scale(data[c], feature_range=(-1, 1)) # TODO investigar que hace esta funcion\n",
    "            \n",
    "        "
   ]
  },
  {
   "cell_type": "markdown",
   "metadata": {},
   "source": [
    "1. Inicializacion de vectores $Y = [Y_0,Y_1,...,Y_{L-1}]$ (tambien vector $D$)\n",
    "2. Inicialización de matrices de pesos $W = [0,W_1,W_2,...,W_{L-1}]$\n",
    "3. Inicializacion de matrices $dW$ con dimensiones de $W$."
   ]
  },
  {
   "cell_type": "code",
   "execution_count": 991,
   "metadata": {},
   "outputs": [],
   "source": [
    "def init_y():\n",
    "    _Y = []\n",
    "    for i in range(L-1):\n",
    "        _Y.append(np.zeros((B, S[i]+1)))\n",
    "    _Y.append(np.zeros((B, S[L-1])))\n",
    "    return _Y\n",
    "\n",
    "def init_w():\n",
    "    _W = [0]\n",
    "    for i in range(L-1):\n",
    "        _W.append(np.random.normal(0, S[0]**(-1/2), (S[i]+1, S[i+1])))\n",
    "    return _W\n",
    "\n",
    "def init_dw(W):\n",
    "    _dW = [0]\n",
    "    for i in range(L-1):\n",
    "        _dW.append(np.zeros_like(W[i+1]))\n",
    "    return _dW "
   ]
  },
  {
   "cell_type": "code",
   "execution_count": 992,
   "metadata": {},
   "outputs": [],
   "source": [
    "# agregar y sacar umbrales.\n",
    "def bias_add(V):\n",
    "    bias = -np.ones((len(V),1) )\n",
    "    return np.concatenate((V,bias), axis=1)\n",
    "\n",
    "def bias_sub( V):\n",
    "    return V[:,:-1]\n",
    "\n",
    "def activation(Xh, W):\n",
    "    Y = init_y()\n",
    "    _Y = Xh\n",
    "    for k in range(1, L):\n",
    "        Y[k-1][:] = bias_add(_Y)\n",
    "        _Y = np.tanh(np.dot(Y[k-1], W[k])) # aca setea funcion g\n",
    "    Y[L-1][:] = _Y\n",
    "    return Y\n",
    "    \n",
    "# Backpropagation (Calcular el error para cada capa)\n",
    "def correction(Zh, W, Y):\n",
    "    dW = init_dw(W) # Inicializo vector de matrices dW con dimensiones de W.\n",
    "    D = init_y() # Inicializo vector D con dimensiones de Y.\n",
    "    E = Zh - Y[L-1] # Error en la salida.\n",
    "    dY = 1 - np.square(Y[L-1]) # Derivada de la función de activación en la salida.\n",
    "    D[L-1] = E*dY \n",
    "    for k in range(L-1,0,-1):\n",
    "        dW[k] += lr * np.dot(Y[k-1].T, D[k]) # +=?????\n",
    "        E = np.dot(D[k], W[k].T)\n",
    "        dY = 1 - np.square(Y[k-1])\n",
    "        D[k-1] = bias_sub(E*dY)\n",
    "    return dW\n",
    "\n",
    "# Actualizar matrices W con las correcciones dW calculadas con Backpropagation \n",
    "def adaptation(W, dW):\n",
    "    for k in range(1, L):\n",
    "        W[k] += dW[k]\n",
    "    return W\n",
    "        \n",
    "def estimation(Zh, Y):\n",
    "    return np.mean(np.sum(np.square(Zh-Y[L-1]), axis=1))\n",
    "\n",
    "# Entrenamiento\n",
    "def train(x, z, W):\n",
    "    Error = []\n",
    "    e = 1\n",
    "    t = 0\n",
    "\n",
    "    while(e>0.001 and t<T): #epoch\n",
    "        e = 0 \n",
    "        \n",
    "        H = np.random.permutation(P) # mini-lotes (recorro instancias en ordenes random)\n",
    "        for h in H:\n",
    "            #if h+B <= P: # TODO ver como hacer esto bien\n",
    "            Y = activation(x[h:h+B], W) # pasamos una vez cada instancia\n",
    "            dW = correction(z[h:h+B], W, Y) # calculamos dW \n",
    "            W = adaptation(W, dW) # actualizamos W con dW\n",
    "            e += estimation(z[h:h+B], Y) # suma de los errores de cada instancia\n",
    "\n",
    "        t += 1 \n",
    "        Error.append(e) # errores x epoch\n",
    "        \n",
    "    return Error, W"
   ]
  },
  {
   "cell_type": "code",
   "execution_count": 994,
   "metadata": {},
   "outputs": [
    {
     "data": {
      "image/png": "[encoded data removed]",
      "text/plain": [
       "<Figure size 432x288 with 1 Axes>"
      ]
     },
     "metadata": {
      "needs_background": "light"
     },
     "output_type": "display_data"
    },
    {
     "data": {
      "text/plain": [
       "'Ok'"
      ]
     },
     "execution_count": 994,
     "metadata": {},
     "output_type": "execute_result"
    }
   ],
   "source": [
    "S = [10,5,1] # #neuronas x capa    \n",
    "L = len(S) # #capas\n",
    "B = 1 # mini-lotes incremental 1\n",
    "\n",
    "lr = 0.01\n",
    "T = 1000\n",
    "model('model','tp1_ej1_training.csv','train')\n",
    "model('model','tp1_ej1_training.csv','test')"
   ]
  },
  {
   "cell_type": "code",
   "execution_count": 1001,
   "metadata": {},
   "outputs": [
    {
     "data": {
      "image/png": "[encoded data removed]",
      "text/plain": [
       "<Figure size 432x288 with 1 Axes>"
      ]
     },
     "metadata": {
      "needs_background": "light"
     },
     "output_type": "display_data"
    },
    {
     "data": {
      "text/plain": [
       "'Ok'"
      ]
     },
     "execution_count": 1001,
     "metadata": {},
     "output_type": "execute_result"
    }
   ],
   "source": [
    "S = [10,8,5,1] # #neuronas x capa    \n",
    "L = len(S) # #capas\n",
    "B = 1 # mini-lotes incremental 1\n",
    "\n",
    "lr = 0.01\n",
    "T = 1000\n",
    "model('model2','tp1_ej1_training.csv','train')\n",
    "model('model2','tp1_ej1_training.csv','test')"
   ]
  },
  {
   "cell_type": "code",
   "execution_count": 1004,
   "metadata": {},
   "outputs": [
    {
     "data": {
      "image/png": "[encoded data removed]",
      "text/plain": [
       "<Figure size 432x288 with 1 Axes>"
      ]
     },
     "metadata": {
      "needs_background": "light"
     },
     "output_type": "display_data"
    },
    {
     "data": {
      "text/plain": [
       "'Ok'"
      ]
     },
     "execution_count": 1004,
     "metadata": {},
     "output_type": "execute_result"
    }
   ],
   "source": [
    "S = [10,8,1] # #neuronas x capa    \n",
    "L = len(S) # #capas\n",
    "B = 1 # mini-lotes incremental 1\n",
    "\n",
    "lr = 0.01\n",
    "T = 1000\n",
    "model('model3','tp1_ej1_training.csv','train')\n",
    "model('model3','tp1_ej1_training.csv','test')"
   ]
  },
  {
   "cell_type": "code",
   "execution_count": 1015,
   "metadata": {},
   "outputs": [
    {
     "data": {
      "image/png": "[encoded data removed]",
      "text/plain": [
       "<Figure size 432x288 with 1 Axes>"
      ]
     },
     "metadata": {
      "needs_background": "light"
     },
     "output_type": "display_data"
    },
    {
     "data": {
      "text/plain": [
       "'Ok'"
      ]
     },
     "execution_count": 1015,
     "metadata": {},
     "output_type": "execute_result"
    }
   ],
   "source": [
    "S = [10,9,1] # #neuronas x capa    \n",
    "L = len(S) # #capas\n",
    "B = 1 # mini-lotes incremental 1\n",
    "\n",
    "lr = 0.01\n",
    "T = 1000\n",
    "model('model3','tp1_ej1_training.csv','train')\n",
    "model('model3','tp1_ej1_training.csv','test')"
   ]
  },
  {
   "cell_type": "code",
   "execution_count": null,
   "metadata": {},
   "outputs": [],
   "source": []
  }
 ],
 "metadata": {
  "kernelspec": {
   "display_name": "Python 3",
   "language": "python",
   "name": "python3"
  },
  "language_info": {
   "codemirror_mode": {
    "name": "ipython",
    "version": 3
   },
   "file_extension": ".py",
   "mimetype": "text/x-python",
   "name": "python",
   "nbconvert_exporter": "python",
   "pygments_lexer": "ipython3",
   "version": "3.7.4"
  }
 },
 "nbformat": 4,
 "nbformat_minor": 2
}
